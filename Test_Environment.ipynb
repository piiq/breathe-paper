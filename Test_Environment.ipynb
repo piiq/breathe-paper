{
 "cells": [
  {
   "cell_type": "markdown",
   "id": "2af6a1f1-059e-4b6c-8765-f365f8608344",
   "metadata": {},
   "source": [
    "# Environment test\n",
    "\n",
    "This notebook shows and example of setting up and testing the python environment to use the notebooks in this repository.\n",
    "\n",
    "The dependencies and helper library can be installed with pip from github.\n",
    "\n",
    "[![Open In Colab](https://colab.research.google.com/assets/colab-badge.svg)](https://colab.research.google.com/github/piiq/breathe-paper/blob/main/Test_Environment.ipynb)"
   ]
  },
  {
   "cell_type": "code",
   "execution_count": 6,
   "id": "83939963-9ce3-4ae5-9882-ef38a5a185de",
   "metadata": {},
   "outputs": [
    {
     "name": "stdout",
     "output_type": "stream",
     "text": [
      "Collecting git+https://github.com/piiq/breathe-paper.git\n",
      "  Cloning https://github.com/piiq/breathe-paper.git to /private/var/folders/pm/97sf8nsj4vz8kvg14d9ymn3r0000gn/T/pip-req-build-f1hxryf_\n",
      "  Running command git clone --filter=blob:none --quiet https://github.com/piiq/breathe-paper.git /private/var/folders/pm/97sf8nsj4vz8kvg14d9ymn3r0000gn/T/pip-req-build-f1hxryf_\n",
      "  Resolved https://github.com/piiq/breathe-paper.git to commit 0926afe05b228daa8dc0580f0f64059f1051cc31\n",
      "  Installing build dependencies ... \u001b[?25ldone\n",
      "\u001b[?25h  Getting requirements to build wheel ... \u001b[?25ldone\n",
      "\u001b[?25h  Preparing metadata (pyproject.toml) ... \u001b[?25ldone\n",
      "\u001b[?25hRequirement already satisfied: matplotlib<4.0.0,>=3.5.1 in /Users/p2p/miniconda3/envs/bgun/lib/python3.9/site-packages (from breathe==0.1.0) (3.5.2)\n",
      "Requirement already satisfied: torchvision<0.12.0,>=0.11.3 in /Users/p2p/miniconda3/envs/bgun/lib/python3.9/site-packages (from breathe==0.1.0) (0.11.3)\n",
      "Requirement already satisfied: requests<3.0.0,>=2.27.1 in /Users/p2p/miniconda3/envs/bgun/lib/python3.9/site-packages (from breathe==0.1.0) (2.28.0)\n",
      "Requirement already satisfied: tensorboardX<3.0,>=2.5 in /Users/p2p/miniconda3/envs/bgun/lib/python3.9/site-packages (from breathe==0.1.0) (2.5.1)\n",
      "Requirement already satisfied: bandit<2.0.0,>=1.7.4 in /Users/p2p/miniconda3/envs/bgun/lib/python3.9/site-packages (from breathe==0.1.0) (1.7.4)\n",
      "Requirement already satisfied: pandas<2.0.0,>=1.4.1 in /Users/p2p/miniconda3/envs/bgun/lib/python3.9/site-packages (from breathe==0.1.0) (1.4.2)\n",
      "Requirement already satisfied: torchaudio<0.11.0,>=0.10.2 in /Users/p2p/miniconda3/envs/bgun/lib/python3.9/site-packages (from breathe==0.1.0) (0.10.2)\n",
      "Requirement already satisfied: SQLAlchemy<2.0.0,>=1.4.31 in /Users/p2p/miniconda3/envs/bgun/lib/python3.9/site-packages (from breathe==0.1.0) (1.4.37)\n",
      "Requirement already satisfied: tqdm<5.0.0,>=4.62.3 in /Users/p2p/miniconda3/envs/bgun/lib/python3.9/site-packages (from breathe==0.1.0) (4.64.0)\n",
      "Requirement already satisfied: learn<2.0.0,>=1.0.0 in /Users/p2p/miniconda3/envs/bgun/lib/python3.9/site-packages (from breathe==0.1.0) (1.0.0)\n",
      "Requirement already satisfied: Pillow<10.0.0,>=9.0.1 in /Users/p2p/miniconda3/envs/bgun/lib/python3.9/site-packages (from breathe==0.1.0) (9.1.1)\n",
      "Requirement already satisfied: torch<2.0.0,>=1.10.2 in /Users/p2p/miniconda3/envs/bgun/lib/python3.9/site-packages (from breathe==0.1.0) (1.10.2)\n",
      "Requirement already satisfied: SoundFile<0.11.0,>=0.10.3 in /Users/p2p/miniconda3/envs/bgun/lib/python3.9/site-packages (from breathe==0.1.0) (0.10.3.post1)\n",
      "Requirement already satisfied: progressbar<3.0,>=2.5 in /Users/p2p/miniconda3/envs/bgun/lib/python3.9/site-packages (from breathe==0.1.0) (2.5)\n",
      "Requirement already satisfied: scikit-learn<2.0.0,>=1.0.2 in /Users/p2p/miniconda3/envs/bgun/lib/python3.9/site-packages (from breathe==0.1.0) (1.1.1)\n",
      "Requirement already satisfied: numpy<2.0.0,>=1.22.4 in /Users/p2p/miniconda3/envs/bgun/lib/python3.9/site-packages (from breathe==0.1.0) (1.22.4)\n",
      "Requirement already satisfied: librosa<0.10.0,>=0.9.1 in /Users/p2p/miniconda3/envs/bgun/lib/python3.9/site-packages (from breathe==0.1.0) (0.9.1)\n",
      "Requirement already satisfied: stevedore>=1.20.0 in /Users/p2p/miniconda3/envs/bgun/lib/python3.9/site-packages (from bandit<2.0.0,>=1.7.4->breathe==0.1.0) (3.5.0)\n",
      "Requirement already satisfied: PyYAML>=5.3.1 in /Users/p2p/miniconda3/envs/bgun/lib/python3.9/site-packages (from bandit<2.0.0,>=1.7.4->breathe==0.1.0) (6.0)\n",
      "Requirement already satisfied: GitPython>=1.0.1 in /Users/p2p/miniconda3/envs/bgun/lib/python3.9/site-packages (from bandit<2.0.0,>=1.7.4->breathe==0.1.0) (3.1.27)\n",
      "Requirement already satisfied: resampy>=0.2.2 in /Users/p2p/miniconda3/envs/bgun/lib/python3.9/site-packages (from librosa<0.10.0,>=0.9.1->breathe==0.1.0) (0.2.2)\n",
      "Requirement already satisfied: numba>=0.45.1 in /Users/p2p/miniconda3/envs/bgun/lib/python3.9/site-packages (from librosa<0.10.0,>=0.9.1->breathe==0.1.0) (0.55.2)\n",
      "Requirement already satisfied: decorator>=4.0.10 in /Users/p2p/miniconda3/envs/bgun/lib/python3.9/site-packages (from librosa<0.10.0,>=0.9.1->breathe==0.1.0) (5.1.1)\n",
      "Requirement already satisfied: pooch>=1.0 in /Users/p2p/miniconda3/envs/bgun/lib/python3.9/site-packages (from librosa<0.10.0,>=0.9.1->breathe==0.1.0) (1.6.0)\n",
      "Requirement already satisfied: scipy>=1.2.0 in /Users/p2p/miniconda3/envs/bgun/lib/python3.9/site-packages (from librosa<0.10.0,>=0.9.1->breathe==0.1.0) (1.8.1)\n",
      "Requirement already satisfied: joblib>=0.14 in /Users/p2p/miniconda3/envs/bgun/lib/python3.9/site-packages (from librosa<0.10.0,>=0.9.1->breathe==0.1.0) (1.1.0)\n",
      "Requirement already satisfied: packaging>=20.0 in /Users/p2p/miniconda3/envs/bgun/lib/python3.9/site-packages (from librosa<0.10.0,>=0.9.1->breathe==0.1.0) (21.3)\n",
      "Requirement already satisfied: audioread>=2.1.5 in /Users/p2p/miniconda3/envs/bgun/lib/python3.9/site-packages (from librosa<0.10.0,>=0.9.1->breathe==0.1.0) (2.1.9)\n",
      "Requirement already satisfied: pyparsing>=2.2.1 in /Users/p2p/miniconda3/envs/bgun/lib/python3.9/site-packages (from matplotlib<4.0.0,>=3.5.1->breathe==0.1.0) (3.0.9)\n",
      "Requirement already satisfied: python-dateutil>=2.7 in /Users/p2p/miniconda3/envs/bgun/lib/python3.9/site-packages (from matplotlib<4.0.0,>=3.5.1->breathe==0.1.0) (2.8.2)\n",
      "Requirement already satisfied: cycler>=0.10 in /Users/p2p/miniconda3/envs/bgun/lib/python3.9/site-packages (from matplotlib<4.0.0,>=3.5.1->breathe==0.1.0) (0.11.0)\n",
      "Requirement already satisfied: kiwisolver>=1.0.1 in /Users/p2p/miniconda3/envs/bgun/lib/python3.9/site-packages (from matplotlib<4.0.0,>=3.5.1->breathe==0.1.0) (1.4.3)\n",
      "Requirement already satisfied: fonttools>=4.22.0 in /Users/p2p/miniconda3/envs/bgun/lib/python3.9/site-packages (from matplotlib<4.0.0,>=3.5.1->breathe==0.1.0) (4.33.3)\n",
      "Requirement already satisfied: pytz>=2020.1 in /Users/p2p/miniconda3/envs/bgun/lib/python3.9/site-packages (from pandas<2.0.0,>=1.4.1->breathe==0.1.0) (2022.1)\n",
      "Requirement already satisfied: urllib3<1.27,>=1.21.1 in /Users/p2p/miniconda3/envs/bgun/lib/python3.9/site-packages (from requests<3.0.0,>=2.27.1->breathe==0.1.0) (1.26.9)\n",
      "Requirement already satisfied: certifi>=2017.4.17 in /Users/p2p/miniconda3/envs/bgun/lib/python3.9/site-packages (from requests<3.0.0,>=2.27.1->breathe==0.1.0) (2022.6.15)\n",
      "Requirement already satisfied: charset-normalizer~=2.0.0 in /Users/p2p/miniconda3/envs/bgun/lib/python3.9/site-packages (from requests<3.0.0,>=2.27.1->breathe==0.1.0) (2.0.12)\n",
      "Requirement already satisfied: idna<4,>=2.5 in /Users/p2p/miniconda3/envs/bgun/lib/python3.9/site-packages (from requests<3.0.0,>=2.27.1->breathe==0.1.0) (3.3)\n",
      "Requirement already satisfied: threadpoolctl>=2.0.0 in /Users/p2p/miniconda3/envs/bgun/lib/python3.9/site-packages (from scikit-learn<2.0.0,>=1.0.2->breathe==0.1.0) (3.1.0)\n",
      "Requirement already satisfied: cffi>=1.0 in /Users/p2p/miniconda3/envs/bgun/lib/python3.9/site-packages (from SoundFile<0.11.0,>=0.10.3->breathe==0.1.0) (1.15.0)\n",
      "Requirement already satisfied: greenlet!=0.4.17 in /Users/p2p/miniconda3/envs/bgun/lib/python3.9/site-packages (from SQLAlchemy<2.0.0,>=1.4.31->breathe==0.1.0) (1.1.2)\n",
      "Requirement already satisfied: protobuf<=3.20.1,>=3.8.0 in /Users/p2p/miniconda3/envs/bgun/lib/python3.9/site-packages (from tensorboardX<3.0,>=2.5->breathe==0.1.0) (3.20.1)\n",
      "Requirement already satisfied: typing-extensions in /Users/p2p/miniconda3/envs/bgun/lib/python3.9/site-packages (from torch<2.0.0,>=1.10.2->breathe==0.1.0) (4.2.0)\n",
      "Requirement already satisfied: pycparser in /Users/p2p/miniconda3/envs/bgun/lib/python3.9/site-packages (from cffi>=1.0->SoundFile<0.11.0,>=0.10.3->breathe==0.1.0) (2.21)\n",
      "Requirement already satisfied: gitdb<5,>=4.0.1 in /Users/p2p/miniconda3/envs/bgun/lib/python3.9/site-packages (from GitPython>=1.0.1->bandit<2.0.0,>=1.7.4->breathe==0.1.0) (4.0.9)\n",
      "Requirement already satisfied: setuptools in /Users/p2p/miniconda3/envs/bgun/lib/python3.9/site-packages (from numba>=0.45.1->librosa<0.10.0,>=0.9.1->breathe==0.1.0) (62.5.0)\n",
      "Requirement already satisfied: llvmlite<0.39,>=0.38.0rc1 in /Users/p2p/miniconda3/envs/bgun/lib/python3.9/site-packages (from numba>=0.45.1->librosa<0.10.0,>=0.9.1->breathe==0.1.0) (0.38.1)\n",
      "Requirement already satisfied: appdirs>=1.3.0 in /Users/p2p/miniconda3/envs/bgun/lib/python3.9/site-packages (from pooch>=1.0->librosa<0.10.0,>=0.9.1->breathe==0.1.0) (1.4.4)\n",
      "Requirement already satisfied: six>=1.5 in /Users/p2p/miniconda3/envs/bgun/lib/python3.9/site-packages (from python-dateutil>=2.7->matplotlib<4.0.0,>=3.5.1->breathe==0.1.0) (1.16.0)\n",
      "Requirement already satisfied: pbr!=2.1.0,>=2.0.0 in /Users/p2p/miniconda3/envs/bgun/lib/python3.9/site-packages (from stevedore>=1.20.0->bandit<2.0.0,>=1.7.4->breathe==0.1.0) (5.9.0)\n",
      "Requirement already satisfied: smmap<6,>=3.0.1 in /Users/p2p/miniconda3/envs/bgun/lib/python3.9/site-packages (from gitdb<5,>=4.0.1->GitPython>=1.0.1->bandit<2.0.0,>=1.7.4->breathe==0.1.0) (5.0.0)\n"
     ]
    }
   ],
   "source": [
    "!pip install git+https://github.com/piiq/breathe-paper.git"
   ]
  },
  {
   "cell_type": "code",
   "execution_count": 7,
   "id": "da009f22-d4a4-4719-8e64-c8a76d26a2d6",
   "metadata": {},
   "outputs": [],
   "source": [
    "import breathe"
   ]
  },
  {
   "cell_type": "code",
   "execution_count": 8,
   "id": "5e1620cc-53e2-4ea8-ac88-37e8e4ac127f",
   "metadata": {},
   "outputs": [],
   "source": [
    "breathe.__doc__"
   ]
  },
  {
   "cell_type": "code",
   "execution_count": null,
   "id": "16ddb268-f3bb-4b66-96f0-74f835e8ecbf",
   "metadata": {},
   "outputs": [],
   "source": []
  }
 ],
 "metadata": {
  "kernelspec": {
   "display_name": "Python 3 (ipykernel)",
   "language": "python",
   "name": "python3"
  },
  "language_info": {
   "codemirror_mode": {
    "name": "ipython",
    "version": 3
   },
   "file_extension": ".py",
   "mimetype": "text/x-python",
   "name": "python",
   "nbconvert_exporter": "python",
   "pygments_lexer": "ipython3",
   "version": "3.9.13"
  }
 },
 "nbformat": 4,
 "nbformat_minor": 5
}
