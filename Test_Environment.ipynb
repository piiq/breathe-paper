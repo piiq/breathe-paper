{
 "cells": [
  {
   "cell_type": "markdown",
   "id": "2af6a1f1-059e-4b6c-8765-f365f8608344",
   "metadata": {},
   "source": [
    "# Environment test\n",
    "\n",
    "This notebook shows and example of setting up and testing the python environment to use the notebooks in this repository.\n",
    "\n",
    "The dependencies and helper library can be installed with pip from github.\n",
    "\n",
    "[![Binder](https://mybinder.org/badge_logo.svg)](https://mybinder.org/v2/gh/piiq/breathe-paper/HEAD?labpath=Test_Environment.ipynb)\n"
   ]
  },
  {
   "cell_type": "code",
   "execution_count": 4,
   "id": "83939963-9ce3-4ae5-9882-ef38a5a185de",
   "metadata": {},
   "outputs": [
    {
     "name": "stdout",
     "output_type": "stream",
     "text": [
      "BGU Respiratory Pathologies Discovery Toolkit.\n",
      "\n",
      "This module contains helper functions that facilitate research and discovery in jupyter\n",
      "notebooks. The helpers are based on different python libraries and can be used both\n",
      "separately and in connection with each other.\n",
      "\n"
     ]
    }
   ],
   "source": [
    "import breathe\n",
    "print(breathe.__doc__)"
   ]
  },
  {
   "cell_type": "code",
   "execution_count": null,
   "id": "16ddb268-f3bb-4b66-96f0-74f835e8ecbf",
   "metadata": {},
   "outputs": [],
   "source": []
  }
 ],
 "metadata": {
  "kernelspec": {
   "display_name": "Python 3 (ipykernel)",
   "language": "python",
   "name": "python3"
  },
  "language_info": {
   "codemirror_mode": {
    "name": "ipython",
    "version": 3
   },
   "file_extension": ".py",
   "mimetype": "text/x-python",
   "name": "python",
   "nbconvert_exporter": "python",
   "pygments_lexer": "ipython3",
   "version": "3.9.13"
  }
 },
 "nbformat": 4,
 "nbformat_minor": 5
}
