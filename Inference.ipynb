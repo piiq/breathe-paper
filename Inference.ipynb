{
 "cells": [
  {
   "cell_type": "markdown",
   "id": "15fc8b60-aac9-4131-9287-43754a1a0185",
   "metadata": {},
   "source": [
    "# Inference"
   ]
  },
  {
   "cell_type": "code",
   "execution_count": 1,
   "id": "df3115a5-7ee4-4799-9d75-72a916346274",
   "metadata": {},
   "outputs": [],
   "source": [
    "import os\n",
    "import warnings\n",
    "\n",
    "warnings.filterwarnings(\"ignore\")"
   ]
  },
  {
   "cell_type": "markdown",
   "id": "473f528e-084a-4153-bdb1-93cc9e524fbc",
   "metadata": {},
   "source": [
    "Inference is done with the help of the Ensemble3 utility object. Ensemble3 loads 3 models from specified checkpoints and provides interfaces to do inference. The inference functionality takes an audio file as input and returns a dictionary with infered classes.\n",
    "\n",
    "Each file sent into the workflow will be trimmed, normalized and divided into 5 second clips. Inference will be performed on each of the clips.\n",
    "\n",
    "---\n",
    "\n",
    "For convenient use in notebooks this logic is implemented in `breathe.audio_utils.Ensemble3` class"
   ]
  },
  {
   "cell_type": "code",
   "execution_count": 2,
   "id": "c434fb87-cad9-407c-857f-cafdb5c72a38",
   "metadata": {},
   "outputs": [],
   "source": [
    "from breathe.inference_utils import Ensemble3"
   ]
  },
  {
   "cell_type": "markdown",
   "id": "942c711f-3122-4999-ae32-b7955f39507c",
   "metadata": {},
   "source": [
    "## Download the model checkpoints\n",
    "\n",
    "3 checkpoints are available for download. The models have been trained to classify:\n",
    "\n",
    "1. \"asthma_notasthma\"\n",
    "- Classification: Asthma vs Not Asthma\n",
    "- File name: `013.pth.tar`\n",
    "- Link: [https://drive.google.com/file/d/13vxbnlLOO4mJLc_XczDHJ_H5BajQ7NRz](https://drive.google.com/file/d/13vxbnlLOO4mJLc_XczDHJ_H5BajQ7NRz)\n",
    "- Class 1: Asthma, Class 2: Not Asthma\n",
    "\n",
    "2. \"ill_healthy\"\n",
    "- Classification: Ill vs Healthy\n",
    "- File name: `014.pth.tar`\n",
    "- Link: [https://drive.google.com/file/d/1p8UID-EJhvvBlny_IcrYRo3nAhVyAvO1](https://drive.google.com/file/d/1p8UID-EJhvvBlny_IcrYRo3nAhVyAvO1)\n",
    "- Class 1: Ill, Class 2: Healthy\n",
    "\n",
    "3. \"asthma_healthy\"\n",
    "- Classification: Asthma vs Healthy\n",
    "- File name: `015.pth.tar`\n",
    "- Link: [https://drive.google.com/file/d/1iyGjWEVdEzavN1mnXxQtjw3x6Q9CmcMM](https://drive.google.com/file/d/1iyGjWEVdEzavN1mnXxQtjw3x6Q9CmcMM)\n",
    "- Class 1: Asthma, Class 2: Healthy\n",
    "\n",
    "---\n",
    "\n",
    "Download all 3 checkpoints and place the files them into a `models` folder in the root of the repository before moving forward.\n"
   ]
  },
  {
   "cell_type": "code",
   "execution_count": 3,
   "id": "c1aa8115-3365-44bb-b3b0-17c3452c4da5",
   "metadata": {},
   "outputs": [],
   "source": [
    "ensemble = Ensemble3(\n",
    "    models=[\n",
    "        (\"asthma_notasthma\", \"013.pth.tar\"),\n",
    "        (\"ill_healthy\", \"014.pth.tar\"),\n",
    "        (\"asthma_healthy\", \"015.pth.tar\"),\n",
    "    ]\n",
    ")"
   ]
  },
  {
   "cell_type": "code",
   "execution_count": 14,
   "id": "5bc5cc06-695c-425a-a68f-236766ee387c",
   "metadata": {},
   "outputs": [],
   "source": [
    "sample_file = os.path.join(os.getcwd(), \"data\", \"sample2.wav\")"
   ]
  },
  {
   "cell_type": "code",
   "execution_count": 13,
   "id": "750f780b-2d59-4d7c-9e26-c06ce950c552",
   "metadata": {},
   "outputs": [
    {
     "data": {
      "text/plain": [
       "{'asthma_notasthma': {'file_prediction': 1, 'clip_predictions': [[1, 1, 1]]},\n",
       " 'ill_healthy': {'file_prediction': 1, 'clip_predictions': [[2, 1, 1]]},\n",
       " 'asthma_healthy': {'file_prediction': 1, 'clip_predictions': [[1, 1, 1]]}}"
      ]
     },
     "execution_count": 13,
     "metadata": {},
     "output_type": "execute_result"
    }
   ],
   "source": [
    "ensemble.infer_file(sample_file)"
   ]
  },
  {
   "cell_type": "code",
   "execution_count": null,
   "id": "8561558a-5c19-4968-9152-ab6434265fb9",
   "metadata": {},
   "outputs": [],
   "source": []
  }
 ],
 "metadata": {
  "kernelspec": {
   "display_name": "Python 3 (ipykernel)",
   "language": "python",
   "name": "python3"
  },
  "language_info": {
   "codemirror_mode": {
    "name": "ipython",
    "version": 3
   },
   "file_extension": ".py",
   "mimetype": "text/x-python",
   "name": "python",
   "nbconvert_exporter": "python",
   "pygments_lexer": "ipython3",
   "version": "3.9.13"
  }
 },
 "nbformat": 4,
 "nbformat_minor": 5
}
